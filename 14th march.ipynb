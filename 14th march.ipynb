{
 "cells": [
  {
   "cell_type": "markdown",
   "id": "9274e8ce-06d5-4b75-a4b6-36e6f660aebb",
   "metadata": {},
   "source": [
    "# Q1. Write a Python function that takes in two arrays of data and calculates the F-value for a variance ratio test. The function should return the F-value and the corresponding p-value for the test."
   ]
  },
  {
   "cell_type": "code",
   "execution_count": 1,
   "id": "942d4384-6de7-4f62-bf36-e18f76821aab",
   "metadata": {},
   "outputs": [],
   "source": [
    "from scipy.stats import f_oneway\n",
    "\n",
    "def variance_ratio_test(data1, data2):\n",
    "    f_statistic, p_value = f_oneway(data1, data2)\n",
    "    return f_statistic, p_value\n"
   ]
  },
  {
   "cell_type": "code",
   "execution_count": 2,
   "id": "9a05e20a-c645-4300-9a4e-32596d0b8b61",
   "metadata": {},
   "outputs": [
    {
     "name": "stdout",
     "output_type": "stream",
     "text": [
      "F-value: 25.0\n",
      "p-value: 0.0010528257933665396\n"
     ]
    }
   ],
   "source": [
    "data1 = [1, 2, 3, 4, 5]\n",
    "data2 = [6, 7, 8, 9, 10]\n",
    "\n",
    "f_value, p_value = variance_ratio_test(data1, data2)\n",
    "\n",
    "print(\"F-value:\", f_value)\n",
    "print(\"p-value:\", p_value)\n"
   ]
  },
  {
   "cell_type": "markdown",
   "id": "de3db370-0d9f-4631-a869-b76a072ad3c1",
   "metadata": {},
   "source": [
    "# Q2. Given a significance level of 0.05 and the degrees of freedom for the numerator and denominator of an F-distribution, write a Python function that returns the critical F-value for a two-tailed test."
   ]
  },
  {
   "cell_type": "code",
   "execution_count": 3,
   "id": "769f934a-5b4f-436a-b646-1825d4158c68",
   "metadata": {},
   "outputs": [],
   "source": [
    "from scipy.stats import f\n",
    "\n",
    "def critical_f_value(dfn, dfd, alpha):\n",
    "    return f.ppf(alpha/2, dfn, dfd), f.ppf(1-alpha/2, dfn, dfd)\n"
   ]
  },
  {
   "cell_type": "code",
   "execution_count": 4,
   "id": "834704b1-0c59-4b61-b8a8-e13f0a3f6220",
   "metadata": {},
   "outputs": [
    {
     "name": "stdout",
     "output_type": "stream",
     "text": [
      "Critical F-value for a two-tailed test: (0.07058467426541322, 3.8586986662732143)\n"
     ]
    }
   ],
   "source": [
    "dfn = 3\n",
    "dfd = 20\n",
    "alpha = 0.05\n",
    "\n",
    "critical_f = critical_f_value(dfn, dfd, alpha)\n",
    "\n",
    "print(\"Critical F-value for a two-tailed test:\", critical_f)\n"
   ]
  },
  {
   "cell_type": "markdown",
   "id": "f76eb1f9-ffd9-47d1-9d86-cad993f30e06",
   "metadata": {},
   "source": [
    "# Q3. Write a Python program that generates random samples from two normal distributions with known variances and uses an F-test to determine if the variances are equal. The program should output the F- value, degrees of freedom, and p-value for the test."
   ]
  },
  {
   "cell_type": "code",
   "execution_count": 5,
   "id": "0b2ea9d3-0459-4f13-9968-46e17be669db",
   "metadata": {},
   "outputs": [
    {
     "name": "stdout",
     "output_type": "stream",
     "text": [
      "F-value: 1.078035334012946\n",
      "Degrees of freedom: 29 29\n",
      "p-value: 0.5794793155084423\n"
     ]
    }
   ],
   "source": [
    "import numpy as np\n",
    "from scipy.stats import f\n",
    "\n",
    "# Generate random samples from two normal distributions\n",
    "np.random.seed(123)\n",
    "sample1 = np.random.normal(loc=0, scale=1, size=30)\n",
    "sample2 = np.random.normal(loc=0, scale=1, size=30)\n",
    "\n",
    "# Calculate the variances and degrees of freedom\n",
    "var1 = np.var(sample1, ddof=1)\n",
    "var2 = np.var(sample2, ddof=1)\n",
    "df1 = len(sample1) - 1\n",
    "df2 = len(sample2) - 1\n",
    "\n",
    "# Calculate the F-value and p-value for the test\n",
    "f_value = var1 / var2 if var1 > var2 else var2 / var1\n",
    "p_value = f.cdf(f_value, df1, df2)\n",
    "\n",
    "# Output the results\n",
    "print(\"F-value:\", f_value)\n",
    "print(\"Degrees of freedom:\", df1, df2)\n",
    "print(\"p-value:\", p_value)\n"
   ]
  },
  {
   "cell_type": "markdown",
   "id": "1a4a671f-271b-4527-bdad-ce3013098a00",
   "metadata": {},
   "source": [
    "# Q4.The variances of two populations are known to be 10 and 15. A sample of 12 observations is taken from each population. Conduct an F-test at the 5% significance level to determine if the variances are significantly different."
   ]
  },
  {
   "cell_type": "markdown",
   "id": "7b6cfba6-e467-4534-8875-fefe8730e4c8",
   "metadata": {},
   "source": [
    "## To conduct an F-test at the 5% significance level to determine if the variances of two populations are significantly different, we need to follow these steps:\n",
    "\n",
    "## State the null and alternative hypotheses:\n",
    "\n",
    "## Null hypothesis: The variances of the two populations are equal.\n",
    "\n",
    "## Alternative hypothesis: The variances of the two populations are not equal.\n",
    "\n",
    "## Choose the significance level (alpha) and degrees of freedom for the F-test:\n",
    "\n",
    "## alpha = 0.05\n",
    "\n",
    "## degrees of freedom numerator = 11 (sample size - 1)\n",
    "\n",
    "## degrees of freedom denominator = 11 (sample size - 1)\n",
    "\n",
    "## Calculate the F-value:\n",
    "\n",
    "## F = s1^2 / s2^2 if s1^2 > s2^2, else F = s2^2 / s1^2\n",
    "\n",
    "## where s1^2 and s2^2 are the sample variances of the two populations.\n",
    "\n",
    "## Calculate the p-value using an F-distribution with the degrees of freedom:\n",
    "\n",
    "## p-value = 2 * min(Fcdf(F, df1, df2), 1 - Fcdf(F, df1, df2))\n",
    "\n",
    "## where Fcdf is the cumulative distribution function of the F-distribution, and df1 and df2 are the degrees of freedom for the numerator and denominator, respectively.\n",
    "\n",
    "## Compare the p-value to the significance level and make a decision:\n",
    "\n",
    "## If the p-value is less than the significance level, reject the null hypothesis and conclude that the variances of the two populations are significantly different. Otherwise, fail to reject the null hypothesis."
   ]
  },
  {
   "cell_type": "code",
   "execution_count": 7,
   "id": "a3fce776-7618-4084-b5ff-f8d2be8e5d59",
   "metadata": {},
   "outputs": [
    {
     "name": "stdout",
     "output_type": "stream",
     "text": [
      "Fail to reject the null hypothesis.\n"
     ]
    }
   ],
   "source": [
    "import scipy.stats as stats\n",
    "\n",
    "# Define the sample variances\n",
    "s1_sq = 10\n",
    "s2_sq = 15\n",
    "\n",
    "# Define the sample sizes\n",
    "n1 = n2 = 12\n",
    "\n",
    "# Calculate the F-value\n",
    "if s1_sq > s2_sq:\n",
    "    F = s1_sq / s2_sq\n",
    "else:\n",
    "    F = s2_sq / s1_sq\n",
    "\n",
    "# Calculate the p-value\n",
    "df1 = n1 - 1\n",
    "df2 = n2 - 1\n",
    "p_value = 2 * min(stats.f.cdf(F, df1, df2), 1 - stats.f.cdf(F, df1, df2))\n",
    "\n",
    "# Compare the p-value to the significance level and make a decision\n",
    "alpha = 0.05\n",
    "if p_value < alpha:\n",
    "    print(\"Reject the null hypothesis. The variances of the two populations are significantly different.\")\n",
    "else:\n",
    "    print(\"Fail to reject the null hypothesis.\")\n"
   ]
  },
  {
   "cell_type": "markdown",
   "id": "2ad14257-2e4e-423e-824e-2a1d57f7ed36",
   "metadata": {},
   "source": [
    "# Q5. A manufacturer claims that the variance of the diameter of a certain product is 0.005. A sample of 25 products is taken, and the sample variance is found to be 0.006. Conduct an F-test at the 1% significance level to determine if the claim is justified."
   ]
  },
  {
   "cell_type": "markdown",
   "id": "d41c321e-9684-4cd4-a681-c376225744cd",
   "metadata": {},
   "source": [
    "## Given:\n",
    "\n",
    "## Population variance (σ²) = 0.005\n",
    "## Sample size (n) = 25\n",
    "## Sample variance (s²) = 0.006\n",
    "## Significance level (α) = 0.01\n",
    "## The null and alternative hypotheses are:\n",
    "\n",
    "## H0: σ² = 0.005 (the claim is justified)\n",
    "## Ha: σ² ≠ 0.005 (the claim is not justified)\n",
    "## The test statistic for the F-test is:\n",
    "\n",
    "## F = s² / σ²\n",
    "\n",
    "## Under the null hypothesis, F follows an F-distribution with degrees of freedom (df1 = n - 1) for the numerator and (df2 = ∞) for the denominator."
   ]
  },
  {
   "cell_type": "markdown",
   "id": "d96faf04-37a2-42ab-96fe-aeb3ccfcf583",
   "metadata": {},
   "source": [
    "# Q6. Write a Python function that takes in the degrees of freedom for the numerator and denominator of an F-distribution and calculates the mean and variance of the distribution. The function should return the mean and variance as a tuple."
   ]
  },
  {
   "cell_type": "code",
   "execution_count": 10,
   "id": "0db99176-eaab-45b8-9394-157d0fb72b59",
   "metadata": {},
   "outputs": [],
   "source": [
    "from math import gamma\n",
    "\n",
    "def f_distribution_mean_variance(dfn, dfd):\n",
    "    \"\"\"Calculates the mean and variance of an F-distribution with given degrees of freedom.\"\"\"\n",
    "    if dfn <= 0 or dfd <= 0:\n",
    "        raise ValueError(\"Degrees of freedom must be positive.\")\n",
    "    mean = dfd / (dfd - 2)\n",
    "    if dfd <= 4:\n",
    "        variance = float('inf') if dfd == 4 else None\n",
    "    else:\n",
    "        variance = (2 * dfd**2 * (dfn + dfd - 2)) / (dfn * (dfd - 2)**2 * (dfd - 4))\n",
    "    return (mean, variance)\n"
   ]
  },
  {
   "cell_type": "markdown",
   "id": "f5297f0b-b169-4741-b33c-b16bc19370b5",
   "metadata": {},
   "source": [
    "# Q7. A random sample of 10 measurements is taken from a normal population with unknown variance. The sample variance is found to be 25. Another random sample of 15 measurements is taken from another normal population with unknown variance, and the sample variance is found to be 20. Conduct an F-test at the 10% significance level to determine if the variances are significantly different."
   ]
  },
  {
   "cell_type": "markdown",
   "id": "ee41886b-16a6-46bb-8c0b-342073e70b7c",
   "metadata": {},
   "source": [
    "## Given that:\n",
    "\n",
    "## sample size of first population (n1) = 10\n",
    "## sample size of second population (n2) = 15\n",
    "## sample variance of first population (s1^2) = 25\n",
    "## sample variance of second population (s2^2) = 20\n",
    "## significance level (alpha) = 0.10\n",
    "## We need to test the null hypothesis H0: sigma1^2 = sigma2^2 against the alternative hypothesis Ha: sigma1^2 != sigma2^2, where sigma1^2 and sigma2^2 are the variances of the first and second populations, respectively.\n",
    "\n",
    "## The test statistic for this two-tailed F-test can be calculated as follows:\n",
    "\n",
    "## F = s1^2 / s2^2\n",
    "\n",
    "## We can calculate the p-value using the F-distribution with degrees of freedom (df1 = n1 - 1) and (df2 = n2 - 1). We can use Python's scipy.stats module to find the p-value."
   ]
  },
  {
   "cell_type": "code",
   "execution_count": 11,
   "id": "1a605e20-f89f-4b98-a8b7-e63c59e10fe5",
   "metadata": {},
   "outputs": [
    {
     "name": "stdout",
     "output_type": "stream",
     "text": [
      "Fail to reject the null hypothesis. The variances are not significantly different.\n",
      "F-value = 1.25\n",
      "p-value = 0.6832194382585954\n"
     ]
    }
   ],
   "source": [
    "import scipy.stats as stats\n",
    "\n",
    "# Given data\n",
    "n1 = 10\n",
    "n2 = 15\n",
    "s1_squared = 25\n",
    "s2_squared = 20\n",
    "alpha = 0.10\n",
    "\n",
    "# Calculate the F-value\n",
    "F = s1_squared / s2_squared\n",
    "\n",
    "# Calculate the p-value\n",
    "df1 = n1 - 1\n",
    "df2 = n2 - 1\n",
    "p_value = 2 * min(stats.f.cdf(F, df1, df2), 1 - stats.f.cdf(F, df1, df2))\n",
    "\n",
    "# Determine if the null hypothesis is rejected\n",
    "if p_value < alpha:\n",
    "    print(\"Reject the null hypothesis. The variances are significantly different.\")\n",
    "else:\n",
    "    print(\"Fail to reject the null hypothesis. The variances are not significantly different.\")\n",
    "    \n",
    "# Print the F-value and p-value\n",
    "print(\"F-value =\", F)\n",
    "print(\"p-value =\", p_value)\n"
   ]
  },
  {
   "cell_type": "code",
   "execution_count": null,
   "id": "3659649e-10bd-41f1-8324-51cfd181c779",
   "metadata": {},
   "outputs": [],
   "source": []
  }
 ],
 "metadata": {
  "kernelspec": {
   "display_name": "Python 3 (ipykernel)",
   "language": "python",
   "name": "python3"
  },
  "language_info": {
   "codemirror_mode": {
    "name": "ipython",
    "version": 3
   },
   "file_extension": ".py",
   "mimetype": "text/x-python",
   "name": "python",
   "nbconvert_exporter": "python",
   "pygments_lexer": "ipython3",
   "version": "3.10.8"
  }
 },
 "nbformat": 4,
 "nbformat_minor": 5
}
